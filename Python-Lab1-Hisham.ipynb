{
 "cells": [
  {
   "cell_type": "markdown",
   "id": "4765e0f4",
   "metadata": {},
   "source": [
    "# Python-Lab1\n"
   ]
  },
  {
   "cell_type": "markdown",
   "id": "c48a08d1",
   "metadata": {},
   "source": [
    "## Variables\n"
   ]
  },
  {
   "cell_type": "markdown",
   "id": "0ba7718d",
   "metadata": {},
   "source": [
    "Define a variable that has a value of your favourite season.\n"
   ]
  },
  {
   "cell_type": "code",
   "execution_count": 3,
   "id": "b228b2ca",
   "metadata": {},
   "outputs": [],
   "source": [
    "num= 12\n"
   ]
  },
  {
   "cell_type": "markdown",
   "id": "bda0b3d9",
   "metadata": {},
   "source": [
    "Define “x“ variable has an integer value and variable “y” has a float value.\n"
   ]
  },
  {
   "cell_type": "code",
   "execution_count": 4,
   "id": "a2fd1b0b",
   "metadata": {},
   "outputs": [],
   "source": [
    "x= 5\n",
    "y=6.5\n"
   ]
  },
  {
   "cell_type": "markdown",
   "id": "c79090ef",
   "metadata": {},
   "source": [
    "Assign One Value to Multiple Variables.\n"
   ]
  },
  {
   "cell_type": "code",
   "execution_count": 5,
   "id": "7f5b4700",
   "metadata": {},
   "outputs": [],
   "source": [
    "\n",
    "z=p=r = 8\n"
   ]
  },
  {
   "cell_type": "markdown",
   "id": "dcfed564",
   "metadata": {},
   "source": [
    "Assign Many Values to Multiple Variables."
   ]
  },
  {
   "cell_type": "code",
   "execution_count": 6,
   "id": "1dad179e",
   "metadata": {},
   "outputs": [],
   "source": [
    "l,k,s = 8,9,10"
   ]
  },
  {
   "cell_type": "code",
   "execution_count": null,
   "id": "2fa98a26",
   "metadata": {},
   "outputs": [],
   "source": []
  }
 ],
 "metadata": {
  "kernelspec": {
   "display_name": "Python 3 (ipykernel)",
   "language": "python",
   "name": "python3"
  },
  "language_info": {
   "codemirror_mode": {
    "name": "ipython",
    "version": 3
   },
   "file_extension": ".py",
   "mimetype": "text/x-python",
   "name": "python",
   "nbconvert_exporter": "python",
   "pygments_lexer": "ipython3",
   "version": "3.9.12"
  }
 },
 "nbformat": 4,
 "nbformat_minor": 5
}
